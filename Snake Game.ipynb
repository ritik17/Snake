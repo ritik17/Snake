{
 "cells": [
  {
   "cell_type": "code",
   "execution_count": null,
   "metadata": {},
   "outputs": [],
   "source": [
    "import pygame, random, sys\n",
    "from pygame.locals import *\n",
    "def collide(x1, x2, y1, y2, w1, w2, h1, h2):\n",
    "\tif x1+w1>x2 and x1<x2+w2 and y1+h1>y2 and y1<y2+h2:return True\n",
    "\telse:return False\n",
    "def die(screen, score):\n",
    "\tf=pygame.font.SysFont('Arial', 30);t=f.render('Your score was: '+str(score), True, (0, 0, 0));screen.blit(t, (10, 270));pygame.display.update();pygame.time.wait(2000);sys.exit(0)\n",
    "xs = [290, 290, 290, 290, 290];ys = [290, 270, 250, 230, 210];dirs = 0;score = 0;applepos = (random.randint(0, 590), random.randint(0, 590));pygame.init();s=pygame.display.set_mode((600, 600));pygame.display.set_caption('Snake');appleimage = pygame.Surface((10, 10));appleimage.fill((0, 255, 0));img = pygame.Surface((20, 20));img.fill((255, 0, 0));f = pygame.font.SysFont('Arial', 20);clock = pygame.time.Clock()\n",
    "while True:\n",
    "\tclock.tick(10)\n",
    "\tfor e in pygame.event.get():\n",
    "\t\tif e.type == QUIT:\n",
    "\t\t\tpygame.quit()\n",
    "\t\t\tquit()\n",
    "\t\telif e.type == KEYDOWN:\n",
    "\t\t\tif e.key == K_UP and dirs != 0:dirs = 2\n",
    "\t\t\telif e.key == K_DOWN and dirs != 2:dirs = 0\n",
    "\t\t\telif e.key == K_LEFT and dirs != 1:dirs = 3\n",
    "\t\t\telif e.key == K_RIGHT and dirs != 3:dirs = 1\n",
    "\ti = len(xs)-1\n",
    "\twhile i >= 2:\n",
    "\t\tif collide(xs[0], xs[i], ys[0], ys[i], 20, 20, 20, 20):die(s, score)\n",
    "\t\ti-= 1\n",
    "\tif collide(xs[0], applepos[0], ys[0], applepos[1], 20, 10, 20, 10):score+=1;xs.append(700);ys.append(700);applepos=(random.randint(0,590),random.randint(0,590))\n",
    "\tif xs[0] < 0 or xs[0] > 580 or ys[0] < 0 or ys[0] > 580: die(s, score)\n",
    "\ti = len(xs)-1\n",
    "\twhile i >= 1:\n",
    "\t\txs[i] = xs[i-1];ys[i] = ys[i-1];i -= 1\n",
    "\tif dirs==0:ys[0] += 20\n",
    "\telif dirs==1:xs[0] += 20\n",
    "\telif dirs==2:ys[0] -= 20\n",
    "\telif dirs==3:xs[0] -= 20\t\n",
    "\ts.fill((255, 255, 255))\t\n",
    "\tfor i in range(0, len(xs)):\n",
    "\t\ts.blit(img, (xs[i], ys[i]))\n",
    "\ts.blit(appleimage, applepos);t=f.render(str(score), True, (0, 0, 0));s.blit(t, (10, 10));pygame.display.update()\n",
    "\t\t\t\t\t\n",
    "\t\t\t\t\t\n",
    "\t\t\t\n",
    "\n",
    "\n"
   ]
  }
 ],
 "metadata": {
  "kernelspec": {
   "display_name": "Python 3",
   "language": "python",
   "name": "python3"
  },
  "language_info": {
   "codemirror_mode": {
    "name": "ipython",
    "version": 3
   },
   "file_extension": ".py",
   "mimetype": "text/x-python",
   "name": "python",
   "nbconvert_exporter": "python",
   "pygments_lexer": "ipython3",
   "version": "3.6.4"
  }
 },
 "nbformat": 4,
 "nbformat_minor": 2
}
